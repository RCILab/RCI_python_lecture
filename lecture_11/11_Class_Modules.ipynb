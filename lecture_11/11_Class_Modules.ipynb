{
 "cells": [
  {
   "cell_type": "markdown",
   "id": "41d1af0d",
   "metadata": {},
   "source": [
    "# Chapter 11: 과제"
   ]
  },
  {
   "cell_type": "markdown",
   "id": "8bcac9a5",
   "metadata": {},
   "source": [
    "## 클래스와 객체 생성\n",
    "`class`를 통해 새로운 자료형(객체)을 정의할 수 있습니다.<br>\n",
    "객체는 속성과 동작(메서드)을 가질 수 있습니다.<br>\n",
    "\n",
    "`Introduce` 클래스를 정의하고, 본인의 이름(name)과 나이(age)를 클래스의 변수로 저장해보세요.<br>\n",
    "그리고 정의한 클래스를 호출해 변수가 잘 저장되었는지 확인해보세요.\n",
    "```python\n",
    "# 클래스 구현\n",
    "\n",
    "a = Introduce()\n",
    "print(a.name, a.age)\n",
    "```"
   ]
  },
  {
   "cell_type": "code",
   "execution_count": null,
   "id": "106c1dbd-9357-4612-819d-d08bcfd318d6",
   "metadata": {},
   "outputs": [],
   "source": []
  },
  {
   "cell_type": "markdown",
   "id": "7e641ed0",
   "metadata": {},
   "source": [
    "## 모듈 활용\n",
    "파이썬의 다양한 기능은 모듈을 통해 분리되어 제공됩니다. `import` 구문으로 필요한 모듈을 불러올 수 있습니다."
   ]
  },
  {
   "cell_type": "markdown",
   "id": "c5b46d07",
   "metadata": {},
   "source": [
    "`import math`를 활용해 5의 제곱근을 계산해보세요."
   ]
  },
  {
   "cell_type": "code",
   "execution_count": null,
   "id": "4a012ecb",
   "metadata": {},
   "outputs": [],
   "source": []
  },
  {
   "cell_type": "markdown",
   "id": "b7d13b71",
   "metadata": {},
   "source": [
    "`import random`을 활용해 1~10 사이의 정수를 무작위로 출력해보세요."
   ]
  },
  {
   "cell_type": "code",
   "execution_count": null,
   "id": "65c53b1e",
   "metadata": {},
   "outputs": [],
   "source": []
  },
  {
   "cell_type": "markdown",
   "id": "df3cc4df",
   "metadata": {},
   "source": [
    "다음의 동작을 하는 함수를 정의하고, `from time import time`을 활용해 함수 동작에 소요되는 시간을 출력해보세요.<br>\n",
    "- 이름: sum_of_squares(numbers)\n",
    "- 매개변수: 정수로 이루어진 리스트 `numbers = [2, 6, 7, 10, 15]`\n",
    "- 기능: 리스트에 있는 각 숫자의 제곱을 구해서 모두 더한 값을 반환\n",
    "- 예: [1, 2, 3] → 1² + 2² + 3² = 14"
   ]
  },
  {
   "cell_type": "code",
   "execution_count": null,
   "id": "ecf21b71-8c64-4241-bfd1-6e61da950696",
   "metadata": {},
   "outputs": [],
   "source": []
  }
 ],
 "metadata": {
  "kernelspec": {
   "display_name": "Python [conda env:base] *",
   "language": "python",
   "name": "conda-base-py"
  },
  "language_info": {
   "codemirror_mode": {
    "name": "ipython",
    "version": 3
   },
   "file_extension": ".py",
   "mimetype": "text/x-python",
   "name": "python",
   "nbconvert_exporter": "python",
   "pygments_lexer": "ipython3",
   "version": "3.13.5"
  }
 },
 "nbformat": 4,
 "nbformat_minor": 5
}
