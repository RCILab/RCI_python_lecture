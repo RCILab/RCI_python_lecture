{
 "cells": [
  {
   "cell_type": "markdown",
   "id": "1cd29ce8-134f-407d-b0cc-9bc0a0547d2d",
   "metadata": {},
   "source": [
    "# 02. Variables"
   ]
  },
  {
   "cell_type": "markdown",
   "id": "4de69244-19f2-471f-acbb-e329b2e3bb7f",
   "metadata": {},
   "source": [
    "``print()``함수는 파이썬에서 화면에 결과를 출력할 때 사용되는 기본 함수입니다.\n",
    "```python\n",
    "print(\"Hello World!\")\n",
    "```\n",
    "위 코드를 실행하면 아래와 같이 출력됩니다:\n",
    "```python\n",
    "Hello World!\n",
    "```\n",
    "\n",
    "더 자세한 사용 방법은 ``help()``를 통해 확인할 수 있습니다."
   ]
  },
  {
   "cell_type": "code",
   "execution_count": 1,
   "id": "87827d13-9193-4acc-92dd-9adf9112c10e",
   "metadata": {},
   "outputs": [
    {
     "name": "stdout",
     "output_type": "stream",
     "text": [
      "Help on built-in function print in module builtins:\n",
      "\n",
      "print(*args, sep=' ', end='\\n', file=None, flush=False)\n",
      "    Prints the values to a stream, or to sys.stdout by default.\n",
      "\n",
      "    sep\n",
      "      string inserted between values, default a space.\n",
      "    end\n",
      "      string appended after the last value, default a newline.\n",
      "    file\n",
      "      a file-like object (stream); defaults to the current sys.stdout.\n",
      "    flush\n",
      "      whether to forcibly flush the stream.\n",
      "\n"
     ]
    }
   ],
   "source": [
    "help(print)"
   ]
  },
  {
   "cell_type": "markdown",
   "id": "4142eba7-95cb-4a19-8b3c-e61cd0620182",
   "metadata": {},
   "source": [
    "## 산술 연산자 활용하기"
   ]
  },
  {
   "cell_type": "markdown",
   "id": "5d287b2d-c8de-4240-968e-2bd079d9896b",
   "metadata": {},
   "source": [
    "산술 연산자는 숫자에 대해 더하기(+), 빼기(-), 곱하기(*) 같은 계산을 할 때 사용하는 기호입니다.<br>\n",
    "계산기처럼 파이썬에서 숫자를 연산할 수 있게 해줍니다.\n",
    "```python\n",
    "print(3 + 2)   # 5\n",
    "print(10 % 3)  # 1\n",
    "print(2 ** 3)  # 8\n",
    "```\n",
    "산술 연산자를 통해 12와 5를 더한 값을 print()로 출력해보세요."
   ]
  },
  {
   "cell_type": "code",
   "execution_count": null,
   "id": "482f69ed-eec8-4e66-8a13-334011f0b21b",
   "metadata": {},
   "outputs": [],
   "source": []
  },
  {
   "cell_type": "markdown",
   "id": "15535174-1e23-479f-8234-092d255126f4",
   "metadata": {},
   "source": [
    "12에서 5를 뺀 결과를 출력해보세요."
   ]
  },
  {
   "cell_type": "code",
   "execution_count": null,
   "id": "d7f66294-5c4d-4f15-b909-6c3d1f8fccc8",
   "metadata": {},
   "outputs": [],
   "source": []
  },
  {
   "cell_type": "markdown",
   "id": "b60e0575-b450-40ea-9c59-8d648836fa0e",
   "metadata": {},
   "source": [
    "12와 5를 곱한 결과를 출력해보세요."
   ]
  },
  {
   "cell_type": "code",
   "execution_count": null,
   "id": "90fdab11-a447-4b61-b908-ba412db840b7",
   "metadata": {},
   "outputs": [],
   "source": []
  },
  {
   "cell_type": "markdown",
   "id": "50f65dbb-5353-49c6-a17e-f94e5ecfea38",
   "metadata": {},
   "source": [
    "12를 5로 나눈 결과를 출력해보세요."
   ]
  },
  {
   "cell_type": "code",
   "execution_count": null,
   "id": "ff1c49d9-8b9a-4c20-aef9-e5300093a6f5",
   "metadata": {},
   "outputs": [],
   "source": []
  },
  {
   "cell_type": "markdown",
   "id": "38082182-a14f-4aaa-9494-6cb0f061b53c",
   "metadata": {},
   "source": [
    "12를 5로 나눈 몫을 출력해보세요."
   ]
  },
  {
   "cell_type": "code",
   "execution_count": null,
   "id": "20bf8210-a333-4c89-b8f3-c292957d8da7",
   "metadata": {},
   "outputs": [],
   "source": []
  },
  {
   "cell_type": "markdown",
   "id": "59f5e5b4-05da-4e18-8047-0276ad2e21d7",
   "metadata": {},
   "source": [
    "12를 5로 나눈 나머지를 출력해보세요."
   ]
  },
  {
   "cell_type": "code",
   "execution_count": null,
   "id": "9299ceb5-ffcc-4d3c-bd33-d69ea254a39e",
   "metadata": {},
   "outputs": [],
   "source": []
  },
  {
   "cell_type": "markdown",
   "id": "c375d61f-3e7b-4164-b042-10824b6e5701",
   "metadata": {},
   "source": [
    "12의 5제곱을 출력해보세요."
   ]
  },
  {
   "cell_type": "code",
   "execution_count": null,
   "id": "e2aaea3d-411c-4dac-9896-5719f158f6f8",
   "metadata": {},
   "outputs": [],
   "source": []
  },
  {
   "cell_type": "markdown",
   "id": "04470d4f-794c-44f1-9594-6b232040fce3",
   "metadata": {},
   "source": [
    "## 대입 연산자 활용하기"
   ]
  },
  {
   "cell_type": "markdown",
   "id": "44931fab-6c62-4ff4-ac56-7f0e31812c7b",
   "metadata": {},
   "source": [
    "대입 연산자는 값을 변수에 저장하거나, 기존 변수의 값을 바꿀 때 사용합니다.<br>\n",
    "숫자나 문자를 변수에 저장해 두면, 나중에 해당 이름으로 값을 쉽게 다시 사용할 수 있습니다.<br>\n",
    "가장 기본적인 = 외에도, 계산과 대입을 동시에 할 수 있는 +=, *=, -= 같은 연산자도 있습니다.\n",
    "```python\n",
    "a = 5\n",
    "a += 3      # a = a + 3 = 8\n",
    "```\n",
    "다음과 같이 ``print()``를 활용하면 2개 이상의 값을 한 번에 출력할 수 있습니다.\n",
    "```python\n",
    "a = 10\n",
    "b = 3\n",
    "print(a, b)\n",
    "```\n",
    "\n",
    "대입 연산자를 활용하여 ``num1``이라는 변수에 12를, ``num2``에 5를 저장하고 출력해보세요."
   ]
  },
  {
   "cell_type": "code",
   "execution_count": null,
   "id": "e05e0f8c-a159-4d84-8650-28e448b80737",
   "metadata": {},
   "outputs": [],
   "source": []
  },
  {
   "cell_type": "markdown",
   "id": "39a55502-7c30-4e87-ae53-98ad0fb43313",
   "metadata": {},
   "source": [
    "``num1``과 ``num2``를 더한 값을 출력해보세요."
   ]
  },
  {
   "cell_type": "code",
   "execution_count": null,
   "id": "f5b988d2-f465-4fc4-a516-1a3aebc12eb7",
   "metadata": {},
   "outputs": [],
   "source": []
  },
  {
   "cell_type": "markdown",
   "id": "e0363830-5bab-492d-9425-3f3c88076fc3",
   "metadata": {},
   "source": [
    "``+=``을 사용해 ``num1``에 3을 더한 값을 다시 ``num1``에 저장하고 출력해보세요."
   ]
  },
  {
   "cell_type": "code",
   "execution_count": null,
   "id": "6e2487bb-7038-48af-9af8-b6721a8a17aa",
   "metadata": {},
   "outputs": [],
   "source": []
  },
  {
   "cell_type": "markdown",
   "id": "b8aa2089-2597-4909-83c0-316329a68ed4",
   "metadata": {},
   "source": [
    "``*=``를 사용해 ``num2``에 2를 곱한 값을 다시 ``num2``에 저장하고 출력해보세요."
   ]
  },
  {
   "cell_type": "code",
   "execution_count": null,
   "id": "ee085a74-9e37-43da-8880-fd7a052d0e93",
   "metadata": {},
   "outputs": [],
   "source": []
  },
  {
   "cell_type": "markdown",
   "id": "4d24bbef-f96f-4fe4-b590-7cdb329a9525",
   "metadata": {},
   "source": [
    "새 변수 ``num3``에 100을 저장한 뒤, ``num3``에서 ``num1``을 뺀 값을 ``-=`` 연산자로 저장하고 출력해보세요."
   ]
  },
  {
   "cell_type": "code",
   "execution_count": null,
   "id": "8f3c4cbd-b27a-4511-a815-bf0aed5d26c1",
   "metadata": {},
   "outputs": [],
   "source": []
  },
  {
   "cell_type": "markdown",
   "id": "c0a0cf90-af3e-4407-9fe1-bb6bd09ad1d0",
   "metadata": {},
   "source": [
    "## 자료형 확인하기"
   ]
  },
  {
   "cell_type": "markdown",
   "id": "31277263-3693-468c-9212-cd51086f8aa6",
   "metadata": {},
   "source": [
    "파이썬에서 모든 값은 자료형(type)을 가지고 있습니다.<br>\n",
    "예를 들어 정수는 int, 소수는 float, 글자는 str이라는 자료형을 가집니다.<br>\n",
    "type() 함수를 사용하면 변수의 자료형을 확인할 수 있습니다.\n",
    "```python\n",
    "print(type(10))        # <class 'int'>\n",
    "print(type(3.14))      # <class 'float'>\n",
    "print(type(\"hi\"))      # <class 'str'>\n",
    "```\n",
    "``type()``을 사용하여 ``num1``의 자료형을 확인해보세요."
   ]
  },
  {
   "cell_type": "code",
   "execution_count": null,
   "id": "b1b95ca5-0fc5-47a1-b847-68d608873f72",
   "metadata": {},
   "outputs": [],
   "source": []
  },
  {
   "cell_type": "markdown",
   "id": "454bb501-4470-4e57-9326-ea278d622ffb",
   "metadata": {},
   "source": [
    "``num1 / num2``의 자료형을 확인해보세요."
   ]
  },
  {
   "cell_type": "code",
   "execution_count": null,
   "id": "3e6bde10-4c2e-44e9-b84c-3bd83c7c3491",
   "metadata": {},
   "outputs": [],
   "source": []
  }
 ],
 "metadata": {
  "kernelspec": {
   "display_name": "Python [conda env:base] *",
   "language": "python",
   "name": "conda-base-py"
  },
  "language_info": {
   "codemirror_mode": {
    "name": "ipython",
    "version": 3
   },
   "file_extension": ".py",
   "mimetype": "text/x-python",
   "name": "python",
   "nbconvert_exporter": "python",
   "pygments_lexer": "ipython3",
   "version": "3.13.5"
  }
 },
 "nbformat": 4,
 "nbformat_minor": 5
}
