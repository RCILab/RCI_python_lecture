{
 "cells": [
  {
   "cell_type": "markdown",
   "id": "71225a8a",
   "metadata": {},
   "source": [
    "## for 반복문\n",
    "`for` 반복문은 리스트, 튜플, 문자열 등 순회 가능한 객체를 반복하는 데 사용됩니다. <br>\n",
    "\n",
    "`for`문을 활용해 리스트 `[1, 2, 3]`의 요소를 하나씩 출력해보세요."
   ]
  },
  {
   "cell_type": "code",
   "execution_count": null,
   "id": "8373da50",
   "metadata": {},
   "outputs": [],
   "source": []
  },
  {
   "cell_type": "markdown",
   "id": "e6ddb145",
   "metadata": {},
   "source": [
    "`for`문을 활용해 문자열 `'Python'`의 각 문자를 출력해보세요."
   ]
  },
  {
   "cell_type": "code",
   "execution_count": null,
   "id": "60b1cf12",
   "metadata": {},
   "outputs": [],
   "source": []
  },
  {
   "cell_type": "markdown",
   "id": "7cd2cea8",
   "metadata": {},
   "source": [
    "`for`문을 사용해 리스트 `a = [1, 2, 3]`의 각 요소에 2를 곱한 결과를 다시 `a`에 저장하고 출력해보세요."
   ]
  },
  {
   "cell_type": "code",
   "execution_count": null,
   "id": "7d08074b",
   "metadata": {},
   "outputs": [],
   "source": []
  },
  {
   "cell_type": "markdown",
   "id": "55242a27",
   "metadata": {},
   "source": [
    "`for`문으로 튜플 `(1, 2, 3)`의 값을 모두 더해 출력해보세요."
   ]
  },
  {
   "cell_type": "code",
   "execution_count": null,
   "id": "f8617933",
   "metadata": {},
   "outputs": [],
   "source": []
  },
  {
   "cell_type": "markdown",
   "id": "9284ab6f",
   "metadata": {},
   "source": [
    "## range()를 통한 제어\n",
    "`range()`를 이용하면 숫자의 범위를 자동으로 생성할 수 있습니다.<br>\n",
    "`break`, `continue`를 통해 내부 동작을 제어할 수 있습니다."
   ]
  },
  {
   "cell_type": "markdown",
   "id": "8be3b764",
   "metadata": {},
   "source": [
    "`range()`를 활용해 0부터 4까지 출력해보세요."
   ]
  },
  {
   "cell_type": "code",
   "execution_count": null,
   "id": "af7545ee",
   "metadata": {},
   "outputs": [],
   "source": []
  },
  {
   "cell_type": "markdown",
   "id": "6d363c78",
   "metadata": {},
   "source": [
    "`range(len())`을 활용해 리스트 `[1, 2, 3]`의 요소를 리스트의 인덱스를 기준으로 순회해보세요."
   ]
  },
  {
   "cell_type": "code",
   "execution_count": null,
   "id": "c292ba55",
   "metadata": {},
   "outputs": [],
   "source": []
  },
  {
   "cell_type": "markdown",
   "id": "538cabab",
   "metadata": {},
   "source": [
    "`break`를 활용해 숫자 중 3에서 반복을 멈추는 `for`문을 작성해보세요.<br>\n",
    "```python\n",
    "for i in range(5):\n",
    "    print(i)\n",
    "    # 코드 구현\n",
    "```"
   ]
  },
  {
   "cell_type": "code",
   "execution_count": null,
   "id": "79edf9b0",
   "metadata": {},
   "outputs": [],
   "source": []
  },
  {
   "cell_type": "markdown",
   "id": "cb1b0e84",
   "metadata": {},
   "source": [
    "`for`문과 `range()`로 1~5의 제곱 값을 출력해보세요."
   ]
  },
  {
   "cell_type": "code",
   "execution_count": null,
   "id": "61e1eac1",
   "metadata": {},
   "outputs": [],
   "source": []
  }
 ],
 "metadata": {
  "kernelspec": {
   "display_name": "Python [conda env:base] *",
   "language": "python",
   "name": "conda-base-py"
  },
  "language_info": {
   "codemirror_mode": {
    "name": "ipython",
    "version": 3
   },
   "file_extension": ".py",
   "mimetype": "text/x-python",
   "name": "python",
   "nbconvert_exporter": "python",
   "pygments_lexer": "ipython3",
   "version": "3.13.5"
  }
 },
 "nbformat": 4,
 "nbformat_minor": 5
}
