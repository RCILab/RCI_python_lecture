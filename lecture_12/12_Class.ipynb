{
 "cells": [
  {
   "cell_type": "markdown",
   "id": "252a501b",
   "metadata": {},
   "source": [
    "## 기본 클래스 정의\n",
    "`Account` 클래스를 정의해보세요.<br>\n",
    "\n",
    "요구사항:\n",
    "- 생성자에서 `owner`, `balance`를 초기화합니다 (`balance` 기본값은 0).\n",
    "- `deposit(amount)` 메서드는 잔액(balance)에 금액(amount)을 추가합니다.\n",
    "- `withdraw(amount)` 메서드는 잔액이 충분할 경우 금액을 차감합니다.\n",
    "- `__str__()`를 오버라이딩해 `\"000님의 잔액: 000원\"` 형식으로 출력되게 만드세요.\n"
   ]
  },
  {
   "cell_type": "markdown",
   "id": "b2e07a9f",
   "metadata": {},
   "source": []
  },
  {
   "cell_type": "markdown",
   "id": "aaf8b937",
   "metadata": {},
   "source": [
    "## 상속"
   ]
  },
  {
   "cell_type": "markdown",
   "id": "7ea1d5a9",
   "metadata": {},
   "source": [
    "요구사항:\n",
    "- `Account` 클래스를 상속받는 `SavingsAccount` 클래스를 정의하세요.\n",
    "- 이 클래스는 `interest_rate` (이자율, 기본값 0.02)를 추가로 가집니다.\n",
    "- `add_interest()` 메서드는 잔액에 이자를 적용합니다.\n",
    "- `__str__()`를 오버라이딩하여 `[저축계좌] 000님 / 잔액: 000원 / 이율: 000%` 형식으로 출력되도록 하세요."
   ]
  },
  {
   "cell_type": "code",
   "execution_count": null,
   "id": "f49f715f",
   "metadata": {},
   "outputs": [],
   "source": []
  },
  {
   "cell_type": "markdown",
   "id": "607d9e99",
   "metadata": {},
   "source": [
    "## 연산자 오버로딩"
   ]
  },
  {
   "cell_type": "markdown",
   "id": "bfa1d0c4",
   "metadata": {},
   "source": [
    "요구사항:\n",
    "- `+` 연산자를 오버로딩하여, 두 계좌의 잔액을 합친 새로운 `Account` 객체를 반환하게 하세요.\n",
    "- 새 계좌의 `owner`는 `\"A&B\"` 형태로 두 계좌의 소유자를 결합합니다.\n"
   ]
  },
  {
   "cell_type": "code",
   "execution_count": null,
   "id": "a1a9d653",
   "metadata": {},
   "outputs": [],
   "source": []
  },
  {
   "cell_type": "markdown",
   "id": "d833505f",
   "metadata": {},
   "source": [
    "## 실행 및 출력 테스트"
   ]
  },
  {
   "cell_type": "markdown",
   "id": "e30666e1",
   "metadata": {},
   "source": [
    "- `Account` 객체 두 개를 만들고 입금, 출금 메서드를 호출해보세요.\n",
    "- `SavingsAccount` 객체도 만들고 이자 적용을 테스트해보세요.\n",
    "- `+` 연산자로 두 계좌를 합쳐보고, `print()` 결과도 확인해보세요.\n",
    "\n",
    "```python\n",
    "# 기본 Account 객체 생성\n",
    "acc1 = Account(\"Alice\", 1000)\n",
    "acc2 = Account(\"Tom\", 2000)\n",
    "\n",
    "# 입금 & 출금 테스트\n",
    "acc1.deposit(500)        # 1000 + 500 = 1500\n",
    "acc2.withdraw(300)       # 2000 - 300 = 1700\n",
    "\n",
    "print(acc1)              # Alice님의 잔액: 1500원\n",
    "print(acc2)              # Tom님의 잔액: 1700원\n",
    "\n",
    "# SavingsAccount 객체 생성\n",
    "s_acc = SavingsAccount(\"Jake\", 10000, interest_rate=0.05)\n",
    "print(s_acc)             # [저축계좌] Jake님 / 잔액: 10000원 / 이율: 5.0%\n",
    "\n",
    "# 이자 적용\n",
    "s_acc.add_interest()     # 10000 * 1.05 = 10500\n",
    "print(s_acc)             # [저축계좌] Jake님 / 잔액: 10500원 / 이율: 5.0%\n",
    "\n",
    "# 연산자 오버로딩 (+)\n",
    "acc3 = acc1 + acc2\n",
    "print(acc3)              # Alice&Tom님의 잔액: 3200원\n",
    "```"
   ]
  },
  {
   "cell_type": "code",
   "execution_count": null,
   "id": "bde20267",
   "metadata": {},
   "outputs": [],
   "source": []
  }
 ],
 "metadata": {
  "kernelspec": {
   "display_name": "",
   "name": ""
  },
  "language_info": {
   "name": ""
  }
 },
 "nbformat": 4,
 "nbformat_minor": 5
}
