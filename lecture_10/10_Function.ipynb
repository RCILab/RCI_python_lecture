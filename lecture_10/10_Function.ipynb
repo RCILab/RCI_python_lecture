{
 "cells": [
  {
   "cell_type": "markdown",
   "id": "add4b3a7",
   "metadata": {},
   "source": [
    "## 함수 정의와 호출\n",
    "함수는 코드 블록을 정의하여 재사용할 수 있도록 도와줍니다. <br>\n",
    "`def`를 이용해 함수를 정의하고, 이름으로 호출합니다.<br>\n",
    "\n",
    "`def`를 이용해 두 수의 합을 반환하는 함수를 정의하고 사용해보세요."
   ]
  },
  {
   "cell_type": "code",
   "execution_count": null,
   "id": "26e6463d",
   "metadata": {},
   "outputs": [],
   "source": []
  },
  {
   "cell_type": "markdown",
   "id": "f4673d35",
   "metadata": {},
   "source": [
    "`return` 없이 함수의 인자로 입력한 문자열을 출력하는 함수 `printer(string)`를 정의하고 사용해보세요."
   ]
  },
  {
   "cell_type": "code",
   "execution_count": null,
   "id": "c3f843fd",
   "metadata": {},
   "outputs": [],
   "source": []
  },
  {
   "cell_type": "markdown",
   "id": "e2eb5aff",
   "metadata": {},
   "source": [
    "위에서 정의한 함수의 기본값을 `\"Hello\"`로 설정하고 인자없이 함수를 호출해 `\"Hello\"`가 출력되는지 확인해보세요.\n",
    "```python\n",
    "printer()    # \"Hello\"\n",
    "```"
   ]
  },
  {
   "cell_type": "code",
   "execution_count": null,
   "id": "283b4938-7f4c-4d34-9997-b76b2d3a3d5c",
   "metadata": {},
   "outputs": [],
   "source": []
  },
  {
   "cell_type": "markdown",
   "id": "fcd2293c",
   "metadata": {},
   "source": [
    "사용자로부터 정수 `a`와 `b`를 함수의 인자로 받아 두 수를 나누었을 때의 몫과 나머지를 받아 반환하는 함수 `division(a, b)`를 정의하고 사용해보세요. 다음은 테스트 입력입니다.<br>\n",
    "```python\n",
    "quot, remain = division(5, 3)\n",
    "print(quot, remain)    # 출력: 1 2\n",
    "```"
   ]
  },
  {
   "cell_type": "code",
   "execution_count": null,
   "id": "688a12b3-0384-4260-a61c-be1497b0e335",
   "metadata": {},
   "outputs": [],
   "source": []
  },
  {
   "cell_type": "markdown",
   "id": "ea9a1a43-bc6c-4fd9-ae42-f00dcdb1f4df",
   "metadata": {},
   "source": [
    "숫자 리스트를 받아 평균을 반환하는 함수 `average(list)`를 작성해보세요.<br>\n",
    "다음은 테스트 입력입니다.\n",
    "```python\n",
    "a = [1, 5, 6, 8]\n",
    "print(average(a))    # 출력: 5\n",
    "```"
   ]
  },
  {
   "cell_type": "code",
   "execution_count": null,
   "id": "d2d551d1-f966-434e-afeb-7fb3e681d64c",
   "metadata": {},
   "outputs": [],
   "source": []
  },
  {
   "cell_type": "markdown",
   "id": "e7278f56",
   "metadata": {},
   "source": [
    "## 전역 변수\n",
    "`global` 키워드를 사용하면 함수 내부에서 전역 변수의 값을 변경할 수 있습니다.<br>\n",
    "`global`을 사용해 함수 내부에서 외부 변수 `count`를 증가시켜보세요.\n",
    "```python\n",
    "count = 0\n",
    "def counter():\n",
    "    # 코드 구현\n",
    "\n",
    "counter()\n",
    "counter()\n",
    "print(count)\n",
    "```"
   ]
  },
  {
   "cell_type": "code",
   "execution_count": null,
   "id": "d44be38e-b484-4dc5-8ce6-f5164dab9482",
   "metadata": {},
   "outputs": [],
   "source": []
  }
 ],
 "metadata": {
  "kernelspec": {
   "display_name": "Python [conda env:base] *",
   "language": "python",
   "name": "conda-base-py"
  },
  "language_info": {
   "codemirror_mode": {
    "name": "ipython",
    "version": 3
   },
   "file_extension": ".py",
   "mimetype": "text/x-python",
   "name": "python",
   "nbconvert_exporter": "python",
   "pygments_lexer": "ipython3",
   "version": "3.13.5"
  }
 },
 "nbformat": 4,
 "nbformat_minor": 5
}
