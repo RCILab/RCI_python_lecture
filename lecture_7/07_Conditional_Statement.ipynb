{
 "cells": [
  {
   "cell_type": "markdown",
   "id": "ee5ee181",
   "metadata": {},
   "source": [
    "## 조건문 기본\n",
    "조건문은 주어진 조건에 따라 프로그램의 흐름을 제어하는 데 사용됩니다. <br>\n",
    "`if`, `else`, `elif`를 통해 다양한 분기 처리를 할 수 있습니다.<br>\n",
    "\n",
    "정수 `3`이 양수인지 검사하여 'positive'를 출력하는 `if`문을 작성해보세요."
   ]
  },
  {
   "cell_type": "code",
   "execution_count": null,
   "id": "787ca7c7-dd32-47b7-8309-0f4e61f378dc",
   "metadata": {},
   "outputs": [],
   "source": []
  },
  {
   "cell_type": "markdown",
   "id": "b725ff9d",
   "metadata": {},
   "source": [
    "`if`문을 사용해 리스트 `data = []`가 비어있으면 `'비어 있음'`를 출력하세요."
   ]
  },
  {
   "cell_type": "code",
   "execution_count": null,
   "id": "a8c7e14f-7d80-44e4-af7c-b33f80f88cc4",
   "metadata": {},
   "outputs": [],
   "source": []
  },
  {
   "cell_type": "markdown",
   "id": "836ce611",
   "metadata": {},
   "source": [
    "`if-else`를 활용해 정수 `3`이 홀수이면 `\"홀수\"`, 짝수이면 `\"짝수\"`를 출력해보세요."
   ]
  },
  {
   "cell_type": "code",
   "execution_count": null,
   "id": "bcb84932-0f54-450f-bf49-b3f763fa4e8a",
   "metadata": {},
   "outputs": [],
   "source": []
  },
  {
   "cell_type": "markdown",
   "id": "63235003-434a-4519-b038-2da9802126ba",
   "metadata": {},
   "source": [
    "`if-else`를 활용해 두 수 `a = 5`와 `b = 12` 중 큰 수를 출력하세요."
   ]
  },
  {
   "cell_type": "code",
   "execution_count": null,
   "id": "1379769f-6012-4f88-8075-25d34ec9a250",
   "metadata": {},
   "outputs": [],
   "source": []
  },
  {
   "cell_type": "markdown",
   "id": "1558a6a7",
   "metadata": {},
   "source": [
    "`if-elif-else`를 활용해 점수에 따라 등급(A/B/C)을 출력해보세요.<br>\n",
    "`score = 87`을 정의해 사용하세요.\n",
    "- 90점 이상: A\n",
    "- 80점 이상 90점 미만: B\n",
    "- 80점 미만: C"
   ]
  },
  {
   "cell_type": "code",
   "execution_count": null,
   "id": "f8f7a93b-00b6-40bc-a370-11adabd5cf23",
   "metadata": {},
   "outputs": [],
   "source": []
  },
  {
   "cell_type": "markdown",
   "id": "609090e5",
   "metadata": {},
   "source": [
    "## 논리 연산자와 input\n",
    "`and`, `or`, `not` 등의 논리 연산자는 여러 조건을 결합하여 복잡한 판단을 가능하게 합니다.<br>\n",
    "`input()`을 통해 사용자 입력도 처리할 수 있습니다."
   ]
  },
  {
   "cell_type": "markdown",
   "id": "0d626ccc",
   "metadata": {},
   "source": [
    " `and` 연산자를 활용해 `x = 4`가 짝수이면서 10보다 작으면 `'조건 만족'`를 출력해보세요."
   ]
  },
  {
   "cell_type": "code",
   "execution_count": null,
   "id": "6c915187",
   "metadata": {},
   "outputs": [],
   "source": []
  },
  {
   "cell_type": "markdown",
   "id": "35693cb9",
   "metadata": {},
   "source": [
    "`or` 연산자를 사용해 `x = 11`가 짝수이거나 10보다 크면 `'조건 만족'`를 출력해보세요."
   ]
  },
  {
   "cell_type": "code",
   "execution_count": null,
   "id": "189df8af",
   "metadata": {},
   "outputs": [],
   "source": []
  },
  {
   "cell_type": "markdown",
   "id": "8a443b2d",
   "metadata": {},
   "source": [
    "`input()`을 활용해 사용자로부터 나이를 입력받고, `if-else`를 활용해 20살 이상이면 `\"성인\"`, 아니면 `\"미성년자\"`를 출력하세요."
   ]
  },
  {
   "cell_type": "code",
   "execution_count": null,
   "id": "6b0521c7",
   "metadata": {},
   "outputs": [],
   "source": []
  },
  {
   "cell_type": "markdown",
   "id": "2dcdd3eb",
   "metadata": {},
   "source": [
    "`input()`으로 받은 두 수가 모두 짝수이면 `'모두 짝수'`을 출력해보세요.<br>\n",
    "다음과 같은 방법들을 통해 두 개 이상의 입력을 받을 수 있습니다."
   ]
  },
  {
   "cell_type": "code",
   "execution_count": 1,
   "id": "12974911-f97a-4166-b644-307caabfe6aa",
   "metadata": {},
   "outputs": [
    {
     "name": "stdin",
     "output_type": "stream",
     "text": [
      " 10 20\n"
     ]
    },
    {
     "name": "stdout",
     "output_type": "stream",
     "text": [
      "10 20\n"
     ]
    }
   ],
   "source": [
    "a, b = input().split()                       # 한 줄로 입력을 받고 공백을 기준으로 구분 \n",
    "a = int(a)                                   # 자료형 변환\n",
    "b = int(b)\n",
    "print(a, b)"
   ]
  },
  {
   "cell_type": "code",
   "execution_count": 2,
   "id": "905016c0-515f-495d-8331-85e854d55baa",
   "metadata": {},
   "outputs": [
    {
     "name": "stdin",
     "output_type": "stream",
     "text": [
      " 10\n",
      " 20\n"
     ]
    },
    {
     "name": "stdout",
     "output_type": "stream",
     "text": [
      "10 20\n"
     ]
    }
   ],
   "source": [
    "a = int(input())                             # a 입력 및 자료형 변환\n",
    "b = int(input())                             # b 입력 및 자료형 변환\n",
    "print(a, b)"
   ]
  },
  {
   "cell_type": "code",
   "execution_count": null,
   "id": "63838e16-6200-4d2a-9021-55d7ed9c1a49",
   "metadata": {},
   "outputs": [],
   "source": []
  }
 ],
 "metadata": {
  "kernelspec": {
   "display_name": "Python 3 (ipykernel)",
   "language": "python",
   "name": "python3"
  },
  "language_info": {
   "codemirror_mode": {
    "name": "ipython",
    "version": 3
   },
   "file_extension": ".py",
   "mimetype": "text/x-python",
   "name": "python",
   "nbconvert_exporter": "python",
   "pygments_lexer": "ipython3",
   "version": "3.11.7"
  }
 },
 "nbformat": 4,
 "nbformat_minor": 5
}
