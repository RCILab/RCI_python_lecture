{
 "cells": [
  {
   "cell_type": "markdown",
   "id": "c58a0228-efdc-40ce-ab6f-06205f03f975",
   "metadata": {},
   "source": [
    "## 문자열 생성 및 출력"
   ]
  },
  {
   "cell_type": "markdown",
   "id": "751159b0-cba9-42f2-9fc6-7cbb54403347",
   "metadata": {},
   "source": [
    "문자열은 글자, 단어, 문장처럼 문자를 묶어 표현하는 자료형입니다.<br>\n",
    "파이썬에서는 작은따옴표 ' 또는 큰따옴표 \"로 감싸서 문자열을 만듭니다.<br>\n",
    "문자열 안에 다시 따옴표를 넣고 싶을 땐 따옴표를 혼합하거나 이스케이프 코드(\\\\) 를 사용합니다.<br>\n",
    "\n",
    "문자열 ``\"Hello, Python!\"``을 변수 ``text``에 저장하고 ``print()``를 이용해 출력해보세요."
   ]
  },
  {
   "cell_type": "code",
   "execution_count": null,
   "id": "024014ce-b4f6-40e3-b2e3-2fc29be02d5a",
   "metadata": {},
   "outputs": [],
   "source": []
  },
  {
   "cell_type": "markdown",
   "id": "2d62c7ba-6bbc-48a7-a588-04678563d27f",
   "metadata": {},
   "source": [
    "따옴표 안에 ``Python's syntax``를 출력해보세요."
   ]
  },
  {
   "cell_type": "code",
   "execution_count": null,
   "id": "ac87e620-7c44-4b76-af19-00001307d53a",
   "metadata": {},
   "outputs": [],
   "source": []
  },
  {
   "cell_type": "markdown",
   "id": "dbefdc1b-e6a3-4cbb-9468-d7bd416c7c64",
   "metadata": {},
   "source": [
    "이스케이프 코드를 활용해 문자열 ``He said, \"Hello! It's me\"``를 출력보세요."
   ]
  },
  {
   "cell_type": "code",
   "execution_count": null,
   "id": "fb5e5bba-28c6-40bd-8cb5-17109d4df3be",
   "metadata": {},
   "outputs": [],
   "source": []
  },
  {
   "cell_type": "markdown",
   "id": "c544b730-8b09-4927-a676-d292f6d5e5e3",
   "metadata": {},
   "source": [
    "## 이스케이프 코드"
   ]
  },
  {
   "cell_type": "markdown",
   "id": "762dba5f-cfd8-496c-beaf-13f26c745343",
   "metadata": {},
   "source": [
    "문자열 안에서 특수한 동작을 하도록 지시하는 기호를 이스케이프 코드라고 합니다.<br>\n",
    "예를 들어 \\n은 줄바꿈, \\t는 탭 간격을 의미합니다.<br>\n",
    "백슬래시(\\\\)를 그대로 출력할 때는 백슬래시 두 개를 사용합니다.<br>\n",
    "이스케이프 코드를 활용하면 줄바꿈된 문장, 경로, 표 형태의 문자열을 쉽게 만들 수 있습니다.<br>\n",
    "\n",
    "``\\n``을 이용해 ``Python\\nis\\nfun``을 여러 줄로 출력해 보세요."
   ]
  },
  {
   "cell_type": "code",
   "execution_count": null,
   "id": "bba817eb-d564-49de-a195-08f19c0367c0",
   "metadata": {},
   "outputs": [],
   "source": []
  },
  {
   "cell_type": "markdown",
   "id": "4537bf18-55af-4819-a63b-a9e8d74c5745",
   "metadata": {},
   "source": [
    "``\\t``를 이용해 ``Name\\tAge``와 ``Minsu\\t20``을 출력해 보세요."
   ]
  },
  {
   "cell_type": "code",
   "execution_count": null,
   "id": "9fcc5148-bb8e-47b4-9006-943784ba5eeb",
   "metadata": {},
   "outputs": [],
   "source": []
  },
  {
   "cell_type": "code",
   "execution_count": null,
   "id": "3ce251f0-6281-4dee-89f5-d4fbd52175b2",
   "metadata": {},
   "outputs": [],
   "source": []
  },
  {
   "cell_type": "markdown",
   "id": "82e39b88-e6ea-425f-895c-bdbfadf51f94",
   "metadata": {},
   "source": [
    "문자열 ``C:\\\\Users\\\\Minsu``를 출력해보세요."
   ]
  },
  {
   "cell_type": "code",
   "execution_count": null,
   "id": "488f74e6-63c2-4c92-bdef-13fe67dbfc0e",
   "metadata": {},
   "outputs": [],
   "source": []
  },
  {
   "cell_type": "markdown",
   "id": "71b23a13-4c13-403d-950e-c6c2cb4f2693",
   "metadata": {},
   "source": [
    "## 문자열 연산자"
   ]
  },
  {
   "cell_type": "markdown",
   "id": "29e76887-3e01-4aa4-8d37-4a6b28c52165",
   "metadata": {},
   "source": [
    "파이썬에서는 문자열끼리도 연산이 가능합니다.<br>\n",
    "``+`` 연산자는 문자열을 이어붙이고, ``*`` 연산자는 문자열을 반복합니다.<br>\n",
    "``len()`` 함수는 문자열의 글자 수(길이) 를 알려줍니다.<br>\n",
    "이 연산자들을 이용하면 간단한 문자열 조작을 할 수 있습니다.<br>\n",
    "\n",
    "``Hi``와 ``There``를 ``+`` 연산자로 붙여 출력해 보세요."
   ]
  },
  {
   "cell_type": "code",
   "execution_count": null,
   "id": "b021c47a-7a8a-4653-8dfc-065c614c7421",
   "metadata": {},
   "outputs": [],
   "source": []
  },
  {
   "cell_type": "markdown",
   "id": "1061b04c-0bba-454a-a48d-6a13985608ab",
   "metadata": {},
   "source": [
    "``ha``를 4번 반복해서 출력해 보세요."
   ]
  },
  {
   "cell_type": "code",
   "execution_count": null,
   "id": "a36627a1-c09c-41bb-adf7-e1bf0cb0791e",
   "metadata": {},
   "outputs": [],
   "source": []
  },
  {
   "cell_type": "markdown",
   "id": "47636e2b-cfab-4660-ab3b-d17109a2e241",
   "metadata": {},
   "source": [
    "``Python``의 길이를 len() 함수로 구하고 출력해 보세요."
   ]
  },
  {
   "cell_type": "code",
   "execution_count": null,
   "id": "98ae5ce6-759e-4223-9436-b72fa8013aa1",
   "metadata": {},
   "outputs": [],
   "source": []
  },
  {
   "cell_type": "markdown",
   "id": "047bdba4-9a90-442e-875f-35b0b62e83f0",
   "metadata": {},
   "source": [
    "## 문자열 인덱싱"
   ]
  },
  {
   "cell_type": "markdown",
   "id": "31242221-a9f6-45b2-8bea-fa30b590d934",
   "metadata": {},
   "source": [
    "문자열은 글자 하나하나에 번호(인덱스) 가 붙어 있어 []로 접근할 수 있습니다.<br>\n",
    "앞에서부터는 0, 뒤에서부터는 -1부터 시작합니다.<br>\n",
    "이를 통해 문자열의 특정 위치에 있는 글자를 가져올 수 있습니다.<br>\n",
    "주의: 인덱스가 범위를 벗어나면 오류가 발생합니다.<br>\n",
    "\n",
    "문자열 ``word = \"Python\"``에서 첫 글자와 마지막 글자를 출력해 보세요."
   ]
  },
  {
   "cell_type": "code",
   "execution_count": null,
   "id": "5674a222-9e4c-47ca-a315-20cd53583c8c",
   "metadata": {},
   "outputs": [],
   "source": []
  },
  {
   "cell_type": "markdown",
   "id": "3e0a6a78-60a1-4074-9fc6-58e0925d983b",
   "metadata": {},
   "source": [
    "``word[0]``과 ``word[-1]``의 결과가 어떻게 다른지 출력하고 비교해 보세요."
   ]
  },
  {
   "cell_type": "code",
   "execution_count": null,
   "id": "e11bbf27-5253-4bea-aa74-63439a631efa",
   "metadata": {},
   "outputs": [],
   "source": []
  },
  {
   "cell_type": "markdown",
   "id": "ece56690-af97-4fea-9b50-e1bfbd10b7a4",
   "metadata": {},
   "source": [
    "``len(word)``를 이용해 마지막 문자를 ``word[len(word)-1]`` 을 이용해 출력해 보세요."
   ]
  },
  {
   "cell_type": "code",
   "execution_count": null,
   "id": "bda3297a-be01-49bb-bd3f-45d5836d7703",
   "metadata": {},
   "outputs": [],
   "source": []
  },
  {
   "cell_type": "markdown",
   "id": "a7e1a40f-0444-4b11-84cf-e87c3f365c61",
   "metadata": {},
   "source": [
    "## 문자열 슬라이싱"
   ]
  },
  {
   "cell_type": "markdown",
   "id": "bbe89da5-4d59-42d5-b0df-da71db3e95ec",
   "metadata": {},
   "source": [
    "``\"Python\"``에서 ``\"yth\"``만 추출해서 출력해 보세요."
   ]
  },
  {
   "cell_type": "code",
   "execution_count": null,
   "id": "f8088bb5-afa9-44bd-9066-ca69a2d1ced4",
   "metadata": {},
   "outputs": [],
   "source": []
  },
  {
   "cell_type": "markdown",
   "id": "256ab965-724d-4045-9547-8f7b4c76a77b",
   "metadata": {},
   "source": [
    "``\"abcdefg\"``에서 홀수 번째 문자만 출력해 보세요. (``[::2]`` 사용)"
   ]
  },
  {
   "cell_type": "code",
   "execution_count": null,
   "id": "1c73c3f6-fb29-4c1c-898a-7b8243f3fc95",
   "metadata": {},
   "outputs": [],
   "source": []
  },
  {
   "cell_type": "markdown",
   "id": "c766c4e3-a655-43fc-bb7d-e3c61d3b2856",
   "metadata": {},
   "source": [
    "``\"Python\"``을 거꾸로 뒤집은 문자열을 출력해 보세요. (``[::-1]``)"
   ]
  },
  {
   "cell_type": "code",
   "execution_count": null,
   "id": "2ae8f41a-2923-43a7-a7f6-3d5e0fbd52de",
   "metadata": {},
   "outputs": [],
   "source": []
  },
  {
   "cell_type": "markdown",
   "id": "486566f2-5bf8-437b-9b56-fae7d1700f3d",
   "metadata": {},
   "source": [
    "## 자료형 변환"
   ]
  },
  {
   "cell_type": "markdown",
   "id": "bda3d7ea-9313-4d0d-9380-9f2dd6e30e04",
   "metadata": {},
   "source": [
    "문자열 ``\"123\"``을 정수형으로 변환하고, 숫자 1을 더한 결과를 출력해 보세요."
   ]
  },
  {
   "cell_type": "code",
   "execution_count": null,
   "id": "30f0a75f-d487-44b8-9070-ebf4754048c5",
   "metadata": {},
   "outputs": [],
   "source": []
  },
  {
   "cell_type": "markdown",
   "id": "7ca5351e-6103-4a58-b8fc-154bf9b98933",
   "metadata": {},
   "source": [
    "``\"abc\"``를 정수로 변환하려 하면 어떤 에러가 발생하는지 직접 실행해보세요."
   ]
  },
  {
   "cell_type": "code",
   "execution_count": null,
   "id": "a382ce22-562c-45f1-bebc-5accf7830ec9",
   "metadata": {},
   "outputs": [],
   "source": []
  },
  {
   "cell_type": "markdown",
   "id": "92ea3046-9a19-4159-89d0-9ce8e4107279",
   "metadata": {},
   "source": [
    "## ``print()`` 함수 옵션"
   ]
  },
  {
   "cell_type": "markdown",
   "id": "e857b820-e495-491b-8b38-bfb733eeedc6",
   "metadata": {},
   "source": [
    "``print(\"2025\", \"07\", \"01\", sep=\"-\")``를 출력해 보세요."
   ]
  },
  {
   "cell_type": "code",
   "execution_count": null,
   "id": "4df8c86e-448b-413e-8c31-b3ed4a624f19",
   "metadata": {},
   "outputs": [],
   "source": []
  }
 ],
 "metadata": {
  "kernelspec": {
   "display_name": "Python [conda env:base] *",
   "language": "python",
   "name": "conda-base-py"
  },
  "language_info": {
   "codemirror_mode": {
    "name": "ipython",
    "version": 3
   },
   "file_extension": ".py",
   "mimetype": "text/x-python",
   "name": "python",
   "nbconvert_exporter": "python",
   "pygments_lexer": "ipython3",
   "version": "3.13.5"
  }
 },
 "nbformat": 4,
 "nbformat_minor": 5
}
