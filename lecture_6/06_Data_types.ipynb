{
 "cells": [
  {
   "cell_type": "markdown",
   "id": "98c73788",
   "metadata": {},
   "source": [
    "## 딕셔너리 기본과 조작\n",
    "딕셔너리는 키-값 쌍으로 데이터를 저장하는 구조입니다.<br>\n",
    "키를 통해 값을 효율적으로 조회하거나 수정할 수 있습니다.<br>\n",
    "\n",
    "딕셔너리 `person = {'name': 'Alice', 'age': 25}`에서 이름(name)을 출력해보세요."
   ]
  },
  {
   "cell_type": "code",
   "execution_count": null,
   "id": "8a71a5c9-13be-4341-b324-ae027ceaa63f",
   "metadata": {},
   "outputs": [],
   "source": []
  },
  {
   "cell_type": "markdown",
   "id": "07bd0cc0",
   "metadata": {},
   "source": [
    "`in`을 활용해 키 `'age'`가 `person` 딕셔너리에 존재하는지 확인해보세요."
   ]
  },
  {
   "cell_type": "code",
   "execution_count": null,
   "id": "a5890de1-55bf-4da0-9514-6b4e0a8d923b",
   "metadata": {},
   "outputs": [],
   "source": []
  },
  {
   "cell_type": "markdown",
   "id": "0e79bdf7",
   "metadata": {},
   "source": [
    "`get()`을 활용해 키 `'name'`에 해당하는 값을 가져와 출력해보세요."
   ]
  },
  {
   "cell_type": "code",
   "execution_count": null,
   "id": "e155991a-7c08-4a23-a703-9c423059eea4",
   "metadata": {},
   "outputs": [],
   "source": []
  },
  {
   "cell_type": "markdown",
   "id": "f70e902e",
   "metadata": {},
   "source": [
    "`keys()`를 활용해 딕셔너리의 모든 키를 출력해보세요."
   ]
  },
  {
   "cell_type": "code",
   "execution_count": null,
   "id": "54208f0f",
   "metadata": {},
   "outputs": [],
   "source": []
  },
  {
   "cell_type": "markdown",
   "id": "6ac589b0",
   "metadata": {},
   "source": [
    "`values()`를 활용해 딕셔너리의 모든 값을 출력해보세요."
   ]
  },
  {
   "cell_type": "code",
   "execution_count": null,
   "id": "18c8e73f",
   "metadata": {},
   "outputs": [],
   "source": []
  },
  {
   "cell_type": "markdown",
   "id": "02c90584",
   "metadata": {},
   "source": [
    "`items()`를 활용해 딕셔너리의 모든 키-값 쌍을 출력해보세요."
   ]
  },
  {
   "cell_type": "code",
   "execution_count": null,
   "id": "167674f0",
   "metadata": {},
   "outputs": [],
   "source": []
  },
  {
   "cell_type": "markdown",
   "id": "d7a55d06",
   "metadata": {},
   "source": [
    "`del`을 활용해 키 `'age'`와 해당 값을 삭제해보세요."
   ]
  },
  {
   "cell_type": "code",
   "execution_count": null,
   "id": "cc5c4372-66bc-41b3-82af-2a1d1df76b95",
   "metadata": {},
   "outputs": [],
   "source": []
  },
  {
   "cell_type": "markdown",
   "id": "3a495bec",
   "metadata": {},
   "source": [
    "## 집합(Set) 사용법\n",
    "집합은 중복을 허용하지 않는 비순서 컬렉션입니다.<br>\n",
    "수학적 집합 연산이나 중복 제거에 유용하게 사용됩니다.<br>\n",
    "\n",
    "집합 `s = set([1, 2, 2, 3])`을 생성하고 출력해보세요."
   ]
  },
  {
   "cell_type": "code",
   "execution_count": null,
   "id": "3aea5339",
   "metadata": {},
   "outputs": [],
   "source": []
  },
  {
   "cell_type": "markdown",
   "id": "c9643621",
   "metadata": {},
   "source": [
    "`add()`를 활용해 집합 `s`에 숫자 4를 추가해보세요."
   ]
  },
  {
   "cell_type": "code",
   "execution_count": null,
   "id": "56a6dd44",
   "metadata": {},
   "outputs": [],
   "source": []
  },
  {
   "cell_type": "markdown",
   "id": "3cbd645e",
   "metadata": {},
   "source": [
    "`remove()`를 활용해 집합 `s`에서 숫자 2를 제거해보세요."
   ]
  },
  {
   "cell_type": "code",
   "execution_count": null,
   "id": "46979c12",
   "metadata": {},
   "outputs": [],
   "source": []
  },
  {
   "cell_type": "markdown",
   "id": "d18ecd94",
   "metadata": {},
   "source": [
    "`pop()`을 활용해 집합 `s`에서 임의의 요소를 제거하고 출력해보세요."
   ]
  },
  {
   "cell_type": "code",
   "execution_count": null,
   "id": "b85ad36d",
   "metadata": {},
   "outputs": [],
   "source": []
  },
  {
   "cell_type": "markdown",
   "id": "c746b8f4",
   "metadata": {},
   "source": [
    "`in`을 활용해 숫자 1이 집합 `s`에 포함되어 있는지 확인해보세요."
   ]
  },
  {
   "cell_type": "code",
   "execution_count": null,
   "id": "47d7ea31",
   "metadata": {},
   "outputs": [],
   "source": []
  }
 ],
 "metadata": {
  "kernelspec": {
   "display_name": "Python 3 (ipykernel)",
   "language": "python",
   "name": "python3"
  },
  "language_info": {
   "codemirror_mode": {
    "name": "ipython",
    "version": 3
   },
   "file_extension": ".py",
   "mimetype": "text/x-python",
   "name": "python",
   "nbconvert_exporter": "python",
   "pygments_lexer": "ipython3",
   "version": "3.11.7"
  }
 },
 "nbformat": 4,
 "nbformat_minor": 5
}
