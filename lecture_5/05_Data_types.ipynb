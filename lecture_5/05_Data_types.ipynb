{
 "cells": [
  {
   "cell_type": "markdown",
   "id": "6d19b667",
   "metadata": {},
   "source": [
    "## 리스트 생성과 인덱싱\n",
    "리스트는 여러 값을 하나의 변수로 다룰 수 있는 자료형입니다.<br> \n",
    "인덱싱과 슬라이싱을 통해 각 요소에 접근하거나 일부를 잘라낼 수 있습니다.<br> \n",
    "\n",
    "숫자 10, 20, 30을 담은 리스트를 생성하고 출력해보세요."
   ]
  },
  {
   "cell_type": "code",
   "execution_count": null,
   "id": "adba54a4",
   "metadata": {},
   "outputs": [],
   "source": []
  },
  {
   "cell_type": "markdown",
   "id": "39263c94",
   "metadata": {},
   "source": [
    "문자열 `'abc'`를 `list()`를 활용해 리스트로 변환해 출력해보세요."
   ]
  },
  {
   "cell_type": "code",
   "execution_count": null,
   "id": "dfbe66c7",
   "metadata": {},
   "outputs": [],
   "source": []
  },
  {
   "cell_type": "markdown",
   "id": "34f77163",
   "metadata": {},
   "source": [
    "리스트 `a = [10, 20, 30]`에서 인덱스를 활용해 첫 번째 요소를 출력해보세요."
   ]
  },
  {
   "cell_type": "code",
   "execution_count": null,
   "id": "457315b2",
   "metadata": {},
   "outputs": [],
   "source": []
  },
  {
   "cell_type": "markdown",
   "id": "dd544453",
   "metadata": {},
   "source": [
    "리스트 `a = [1, 2, 3, 4, 5]`에서 슬라이싱을 활용해 중간 3개의 요소를 확인해보세요."
   ]
  },
  {
   "cell_type": "code",
   "execution_count": null,
   "id": "87dd6af6",
   "metadata": {},
   "outputs": [],
   "source": []
  },
  {
   "cell_type": "markdown",
   "id": "92a5c86f",
   "metadata": {},
   "source": [
    "## 연산과 포함 여부\n",
    "`+`, `*`, `in` 등의 연산자를 이용해 리스트를 합치거나 반복하고,<br> \n",
    "특정 값이 포함되어 있는지 확인할 수 있습니다."
   ]
  },
  {
   "cell_type": "markdown",
   "id": "76387028",
   "metadata": {},
   "source": [
    "`+` 연산자를 활용해 리스트 `[1, 2]`와 `[3, 4]`를 합쳐 출력해보세요."
   ]
  },
  {
   "cell_type": "code",
   "execution_count": null,
   "id": "f11841a1",
   "metadata": {},
   "outputs": [],
   "source": []
  },
  {
   "cell_type": "markdown",
   "id": "c3631467",
   "metadata": {},
   "source": [
    "`*` 연산자를 활용해 `[0]`을 세 번 반복한 결과를 출력해보세요."
   ]
  },
  {
   "cell_type": "code",
   "execution_count": null,
   "id": "d783654c",
   "metadata": {},
   "outputs": [],
   "source": []
  },
  {
   "cell_type": "markdown",
   "id": "54344a01",
   "metadata": {},
   "source": [
    "`in`을 활용해 숫자 `2`가 리스트 `[1, 2, 3]`에 포함되는지 확인해보세요."
   ]
  },
  {
   "cell_type": "code",
   "execution_count": null,
   "id": "b6ad9dba",
   "metadata": {},
   "outputs": [],
   "source": []
  },
  {
   "cell_type": "markdown",
   "id": "1a96d3e1",
   "metadata": {},
   "source": [
    "`len()`을 활용해 리스트 `[1, 2, 3]`의 길이를 출력해보세요."
   ]
  },
  {
   "cell_type": "code",
   "execution_count": null,
   "id": "61b7c13f",
   "metadata": {},
   "outputs": [],
   "source": []
  },
  {
   "cell_type": "markdown",
   "id": "37a17431",
   "metadata": {},
   "source": [
    "## 리스트 메서드\n",
    "리스트는 값을 추가하거나 제거하는 다양한 메서드를 제공합니다. <br>\n",
    "`append(value)`, `insert(index, value)`, `remove(value)` 등으로 리스트를 동적으로 조작할 수 있습니다."
   ]
  },
  {
   "cell_type": "markdown",
   "id": "811f666b",
   "metadata": {},
   "source": [
    "`append()`를 활용해 리스트 `[1, 2]`에 숫자 3을 추가해보세요."
   ]
  },
  {
   "cell_type": "code",
   "execution_count": null,
   "id": "3406dfba",
   "metadata": {},
   "outputs": [],
   "source": []
  },
  {
   "cell_type": "markdown",
   "id": "edf8d52d",
   "metadata": {},
   "source": [
    "`insert()`를 활용해 리스트 `[1, 2]`의 인덱스 1에 숫자 99를 삽입해보세요."
   ]
  },
  {
   "cell_type": "code",
   "execution_count": null,
   "id": "5bf4ec87",
   "metadata": {},
   "outputs": [],
   "source": []
  },
  {
   "cell_type": "markdown",
   "id": "99a18e03",
   "metadata": {},
   "source": [
    "`remove()`를 활용해 리스트 `[1, 2, 3]`에서 숫자 2를 제거해보세요."
   ]
  },
  {
   "cell_type": "code",
   "execution_count": null,
   "id": "bbc6b83f",
   "metadata": {},
   "outputs": [],
   "source": []
  },
  {
   "cell_type": "markdown",
   "id": "eb849d89",
   "metadata": {},
   "source": [
    "`pop()`을 활용해 리스트 `[1, 2, 3]`의 마지막 요소를 제거하고 반환해보세요."
   ]
  },
  {
   "cell_type": "code",
   "execution_count": null,
   "id": "a0b5f977-bd43-4269-ba43-f4afa08b8700",
   "metadata": {},
   "outputs": [],
   "source": []
  },
  {
   "cell_type": "markdown",
   "id": "7b5d35ad",
   "metadata": {},
   "source": [
    "`clear()`를 활용해 리스트 `[1, 2, 3]`의 모든 요소를 제거해보세요."
   ]
  },
  {
   "cell_type": "code",
   "execution_count": null,
   "id": "5b19813f",
   "metadata": {},
   "outputs": [],
   "source": []
  },
  {
   "cell_type": "markdown",
   "id": "84f0bd9f",
   "metadata": {},
   "source": [
    "`del`을 활용해 리스트 `[1, 2, 3]`에서 첫 번째 요소를 삭제해보세요."
   ]
  },
  {
   "cell_type": "code",
   "execution_count": null,
   "id": "a63135b2",
   "metadata": {},
   "outputs": [],
   "source": []
  },
  {
   "cell_type": "markdown",
   "id": "69bacce4",
   "metadata": {},
   "source": [
    "`sort()`를 활용해 리스트 `[3, 1, 2]`를 오름차순으로 정렬해보세요."
   ]
  },
  {
   "cell_type": "code",
   "execution_count": null,
   "id": "ffc19039",
   "metadata": {},
   "outputs": [],
   "source": []
  },
  {
   "cell_type": "markdown",
   "id": "24dde94c",
   "metadata": {},
   "source": [
    "## 튜플 기본과 조작\n",
    "튜플은 리스트와 유사하지만 변경할 수 없는 자료형입니다. <br>\n",
    "고정된 값을 저장하거나 불변 데이터를 다룰 때 유용합니다.<br>\n",
    "\n",
    "튜플 `(1, 2, 3)`을 생성하고 출력해보세요."
   ]
  },
  {
   "cell_type": "code",
   "execution_count": null,
   "id": "839c5873",
   "metadata": {},
   "outputs": [],
   "source": []
  },
  {
   "cell_type": "markdown",
   "id": "b0054e6c",
   "metadata": {},
   "source": [
    "튜플의 요소는 변경 불가능하다는 것을 확인하기 위해 첫 번째 요소를 수정해보세요."
   ]
  },
  {
   "cell_type": "code",
   "execution_count": null,
   "id": "dff44d3a",
   "metadata": {},
   "outputs": [],
   "source": []
  },
  {
   "cell_type": "markdown",
   "id": "bc6ee958",
   "metadata": {},
   "source": [
    "튜플 `t = (1, 2, 3)`에서 첫 번째 요소를 출력해보세요."
   ]
  },
  {
   "cell_type": "code",
   "execution_count": null,
   "id": "4fa33832",
   "metadata": {},
   "outputs": [],
   "source": []
  },
  {
   "cell_type": "markdown",
   "id": "60276755",
   "metadata": {},
   "source": [
    "튜플 `t = (1, 2, 3, 4)`에서 슬라이싱을 활용해 일부 요소를 확인해보세요."
   ]
  },
  {
   "cell_type": "code",
   "execution_count": null,
   "id": "fa568736",
   "metadata": {},
   "outputs": [],
   "source": []
  },
  {
   "cell_type": "markdown",
   "id": "29a259a8",
   "metadata": {},
   "source": [
    "튜플 `(1, 2)`와 `(3, 4)`를 `+` 연산자로 이어붙여보세요."
   ]
  },
  {
   "cell_type": "code",
   "execution_count": null,
   "id": "23e3b8dc",
   "metadata": {},
   "outputs": [],
   "source": []
  },
  {
   "cell_type": "markdown",
   "id": "3d17b20f",
   "metadata": {},
   "source": [
    "`*` 연산자를 활용해 `(0,)`을 네 번 반복한 튜플을 생성해보세요."
   ]
  },
  {
   "cell_type": "code",
   "execution_count": null,
   "id": "2f190653",
   "metadata": {},
   "outputs": [],
   "source": []
  },
  {
   "cell_type": "markdown",
   "id": "1490339e",
   "metadata": {},
   "source": [
    "`len()`을 활용해 튜플 `(1, 2, 3)`의 길이를 확인해보세요."
   ]
  },
  {
   "cell_type": "code",
   "execution_count": null,
   "id": "1b493751",
   "metadata": {},
   "outputs": [],
   "source": []
  },
  {
   "cell_type": "markdown",
   "id": "4454cf26",
   "metadata": {},
   "source": [
    "`count()`를 활용해 튜플 `(1, 2, 2, 3)`에서 2의 개수를 세어보세요."
   ]
  },
  {
   "cell_type": "code",
   "execution_count": null,
   "id": "fb5a7655",
   "metadata": {},
   "outputs": [],
   "source": []
  },
  {
   "cell_type": "markdown",
   "id": "47446c7d",
   "metadata": {},
   "source": [
    "`index()`를 활용해 튜플 `(1, 2, 3)`에서 숫자 2의 인덱스를 확인해보세요."
   ]
  },
  {
   "cell_type": "code",
   "execution_count": null,
   "id": "9fe232b5",
   "metadata": {},
   "outputs": [],
   "source": []
  }
 ],
 "metadata": {
  "kernelspec": {
   "display_name": "Python [conda env:base] *",
   "language": "python",
   "name": "conda-base-py"
  },
  "language_info": {
   "codemirror_mode": {
    "name": "ipython",
    "version": 3
   },
   "file_extension": ".py",
   "mimetype": "text/x-python",
   "name": "python",
   "nbconvert_exporter": "python",
   "pygments_lexer": "ipython3",
   "version": "3.13.5"
  }
 },
 "nbformat": 4,
 "nbformat_minor": 5
}
