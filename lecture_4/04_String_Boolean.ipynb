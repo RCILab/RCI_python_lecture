{
 "cells": [
  {
   "cell_type": "markdown",
   "id": "a47505aa",
   "metadata": {},
   "source": [
    "### Boolean 자료형\n",
    "Boolean 자료형은 참(True)과 거짓(False) 두 가지 값만 가질 수 있는 자료형입니다. <br>\n",
    "`bool()` 함수를 통해 다양한 값의 참/거짓 여부를 확인할 수 있으며, 조건문에서 자주 사용됩니다.<br>\n",
    "\n",
    "`0`의 Boolean을 `bool()`을 이용해 출력해보세요."
   ]
  },
  {
   "cell_type": "code",
   "execution_count": null,
   "id": "bb62ff9a-1261-4d15-97a0-347cb179e979",
   "metadata": {},
   "outputs": [],
   "source": []
  },
  {
   "cell_type": "markdown",
   "id": "5af7ad5b",
   "metadata": {},
   "source": [
    "`\"Python\"`의 Boolean을 `bool()`을 이용해 출력해보세요."
   ]
  },
  {
   "cell_type": "code",
   "execution_count": null,
   "id": "138ee36e",
   "metadata": {},
   "outputs": [],
   "source": []
  },
  {
   "cell_type": "markdown",
   "id": "368fe287-f302-4eb8-8dbb-07228c6cc6fb",
   "metadata": {},
   "source": [
    "### 비교 연산자\n",
    "비교 연산자는 두 값 사이의 관계를 판단하여 True 또는 False를 반환합니다.<br>\n",
    "대표적으로 ==, !=, >, <, >=, <= 등이 있으며, <br>\n",
    "숫자뿐 아니라 문자열 등 다양한 자료형에 사용됩니다.<br>\n",
    "\n",
    "정수 `3`과 `2`의 대소 관계를 비교 연산자를 통해 `bool` 자료형으로 출력해보세요."
   ]
  },
  {
   "cell_type": "code",
   "execution_count": null,
   "id": "d735db3e",
   "metadata": {},
   "outputs": [],
   "source": []
  },
  {
   "cell_type": "markdown",
   "id": "e339a048-c063-4c52-bacc-6b8f56ec51d3",
   "metadata": {},
   "source": [
    "정수 `5`과 `5`의 대소 관계를 비교 연산자를 통해 `bool` 자료형으로 출력해보세요."
   ]
  },
  {
   "cell_type": "code",
   "execution_count": null,
   "id": "100c7ea1",
   "metadata": {},
   "outputs": [],
   "source": []
  },
  {
   "cell_type": "markdown",
   "id": "78545c99-9962-4ff5-828b-087aa958b7d9",
   "metadata": {},
   "source": [
    "문자열 `'apple'`과 `'banana'`의 대소 관계를 비교 연산자를 통해 `bool` 자료형으로 출력해보세요."
   ]
  },
  {
   "cell_type": "code",
   "execution_count": null,
   "id": "a35ca20a",
   "metadata": {},
   "outputs": [],
   "source": []
  },
  {
   "cell_type": "markdown",
   "id": "f270a8bf",
   "metadata": {},
   "source": [
    "### 문자열 비교\n",
    "문자열도 사전순(Unicode 기준)으로 비교할 수 있습니다. <br>\n",
    "예를 들어 'apple' < 'banana'는 True입니다. <br>\n",
    "\n",
    "두 문자열 `'cat'`과 `'apple'`의 대소 관계를 비교 연산자를 이용해 확인해보세요."
   ]
  },
  {
   "cell_type": "code",
   "execution_count": null,
   "id": "bcc28b8b",
   "metadata": {},
   "outputs": [],
   "source": []
  },
  {
   "cell_type": "markdown",
   "id": "af46ef0e",
   "metadata": {},
   "source": [
    "두 문자열 `'a'`과 `'A'`의 대소 관계를 비교 연산자를 이용해 확인해보세요."
   ]
  },
  {
   "cell_type": "code",
   "execution_count": null,
   "id": "dddcd070",
   "metadata": {},
   "outputs": [],
   "source": []
  },
  {
   "cell_type": "markdown",
   "id": "df9c9ac2",
   "metadata": {},
   "source": [
    "## 문자열의 불변성"
   ]
  },
  {
   "cell_type": "markdown",
   "id": "f65190c0",
   "metadata": {},
   "source": [
    "문자열은 한 번 생성되면 변경할 수 없는(immutable) 자료형입니다. <br>\n",
    "이러한 특성으로 인해 다음과 같은 코드를 실행을 하면 오류가 발생합니다.\n",
    "```python\n",
    "s = 'hello'\n",
    "s[0] = 'H'  # 오류 발생\n",
    "```\n",
    "따라서 변경이 필요한 경우 슬라이싱이나 `replace()` 함수를 사용해 새로운 문자열을 생성합니다. <br>\n",
    "`find()` 함수는 특정 문자의 위치를 찾아줍니다.<br>\n",
    "\n",
    "슬라이싱을 이용해 변수 `s`에 'Hello'을 저장하고 `print()`를 이용해 `'ello'`를 출력해보세요. <br>\n",
    "→ `s[1:]`를 이용하면 `s[0]`을 제외한 부분의 문자열을 추출할 수 있습니다."
   ]
  },
  {
   "cell_type": "code",
   "execution_count": null,
   "id": "a3566fc2",
   "metadata": {},
   "outputs": [],
   "source": []
  },
  {
   "cell_type": "markdown",
   "id": "1caddbd8",
   "metadata": {},
   "source": [
    "`replace(old, new)`: 문자열 내 특정 부분(old)을 다른 문자열(new)로 교체합니다.<br>\n",
    "`replace()`를 활용해 문자열 `'apple banana'`에서 `'apple'`을 `'orange'`로 교체해보세요."
   ]
  },
  {
   "cell_type": "code",
   "execution_count": null,
   "id": "b0059392",
   "metadata": {},
   "outputs": [],
   "source": []
  },
  {
   "cell_type": "markdown",
   "id": "4f0173f3",
   "metadata": {},
   "source": [
    "`replace()`를 활용해 문자열 `'aabbcc'`의 `'a'`를 `'z'`로 교체해보세요."
   ]
  },
  {
   "cell_type": "code",
   "execution_count": null,
   "id": "85c30b3e",
   "metadata": {},
   "outputs": [],
   "source": []
  },
  {
   "cell_type": "markdown",
   "id": "392a9f52",
   "metadata": {},
   "source": [
    "`find(val)`: 지정한 문자열(val)이 처음 등장하는 위치의 인덱스를 반환하고, 없으면 -1을 반환합니다.<br>\n",
    "문자열 `'banana'`에서 `'a'`가 처음 등장하는 위치의 인덱스를 `find()`를 활용해 확인해보세요."
   ]
  },
  {
   "cell_type": "code",
   "execution_count": null,
   "id": "601a2cb6",
   "metadata": {},
   "outputs": [],
   "source": []
  },
  {
   "cell_type": "markdown",
   "id": "711f415a",
   "metadata": {},
   "source": [
    "`find()`를 활용해 문자열 `'banana'`에서 `'x'`의 인덱스를 반환받으려고 하면 어떤 결과가 출력되는지 확인해보세요."
   ]
  },
  {
   "cell_type": "code",
   "execution_count": null,
   "id": "2c5e535d",
   "metadata": {},
   "outputs": [],
   "source": []
  },
  {
   "cell_type": "markdown",
   "id": "0f848bb8-c938-47c7-ae13-954e6f452781",
   "metadata": {},
   "source": [
    "## 문자열 처리"
   ]
  },
  {
   "cell_type": "markdown",
   "id": "b4b21bc2",
   "metadata": {},
   "source": [
    "`in / not in`: 특정 문자열이 포함되어 있는지를 불리언 값으로 반환합니다.<br>\n",
    "문자 `'a'`가 문자열 `'apple'`에 포함되어 있는지 `in`을 활용하여 확인해보세요."
   ]
  },
  {
   "cell_type": "code",
   "execution_count": null,
   "id": "8aabab67",
   "metadata": {},
   "outputs": [],
   "source": []
  },
  {
   "cell_type": "markdown",
   "id": "562cdd8b",
   "metadata": {},
   "source": [
    "`count(val)`: 지정한 문자열이 몇 번 등장하는지 횟수를 반환합니다.<br>\n",
    "문자열 `'banana'`에 `'a'`가 몇 번 등장하는지 `count()`를 활용해 확인해보세요."
   ]
  },
  {
   "cell_type": "code",
   "execution_count": null,
   "id": "a239fd4d",
   "metadata": {},
   "outputs": [],
   "source": []
  },
  {
   "cell_type": "markdown",
   "id": "edaa8cce",
   "metadata": {},
   "source": [
    "문자열 `'mississippi'`에 `'s'`가 몇 번 등장하는지 `count()`를 활용해 확인해보세요."
   ]
  },
  {
   "cell_type": "code",
   "execution_count": null,
   "id": "ded529dc",
   "metadata": {},
   "outputs": [],
   "source": []
  },
  {
   "cell_type": "markdown",
   "id": "193e3810",
   "metadata": {},
   "source": [
    "`split(sep)`: 구분자를 기준으로 문자열을 나누어 리스트로 반환합니다. <br>\n",
    "`split()`을 활용해서 문자열 `'a,b,c'`를 쉼표(,)를 기준으로 나누어 보세요. "
   ]
  },
  {
   "cell_type": "code",
   "execution_count": null,
   "id": "5f541d5d",
   "metadata": {},
   "outputs": [],
   "source": []
  },
  {
   "cell_type": "markdown",
   "id": "0c5eb18a",
   "metadata": {},
   "source": [
    "`split()`을 활용해서 문자열 `'one two three'`를 공백( )을 기준으로 나누어 보세요. "
   ]
  },
  {
   "cell_type": "code",
   "execution_count": null,
   "id": "292813cb",
   "metadata": {},
   "outputs": [],
   "source": []
  },
  {
   "cell_type": "markdown",
   "id": "c11a10cf",
   "metadata": {},
   "source": [
    "`strip()`: 문자열의 양 끝에서 공백 또는 지정한 문자를 제거합니다.<br>\n",
    "문자열 `'   hello   '` 양 끝의 공백을 `strip()`을 이용해 제거해보세요."
   ]
  },
  {
   "cell_type": "code",
   "execution_count": null,
   "id": "b4f5bbfc",
   "metadata": {},
   "outputs": [],
   "source": []
  },
  {
   "cell_type": "markdown",
   "id": "c17eff48",
   "metadata": {},
   "source": [
    "`capitalize()`: 문자열의 첫 글자를 대문자로, 나머지를 소문자로 변환합니다.<br>\n",
    "문자열 `'123abc'`에 `capitalize()`를 적용해보세요."
   ]
  },
  {
   "cell_type": "code",
   "execution_count": null,
   "id": "fa9bcf46-fa7f-435c-886a-1f54ebec7cd7",
   "metadata": {},
   "outputs": [],
   "source": []
  },
  {
   "cell_type": "markdown",
   "id": "70328c63-222b-462c-ba17-0e02bcfc3d53",
   "metadata": {},
   "source": [
    "문자열 `'PYTHON'`에 `capitalize()`를 적용해보세요."
   ]
  },
  {
   "cell_type": "code",
   "execution_count": null,
   "id": "75a46694-60f4-4147-8f89-00208e451024",
   "metadata": {},
   "outputs": [],
   "source": []
  },
  {
   "cell_type": "markdown",
   "id": "00fc8ac0",
   "metadata": {},
   "source": [
    "`lower()`: 문자열 전체를 소문자로 변환합니다.<br>\n",
    "문자열 `'PYTHON'`에 `lower()`를 적용해보세요."
   ]
  },
  {
   "cell_type": "code",
   "execution_count": null,
   "id": "ce552bff",
   "metadata": {},
   "outputs": [],
   "source": []
  },
  {
   "cell_type": "markdown",
   "id": "c0882ca3",
   "metadata": {},
   "source": [
    "`upper()`: 문자열 전체를 대문자로 변환합니다.<br>\n",
    "문자열 `'123abc'`에 `upper()`를 적용해보세요."
   ]
  },
  {
   "cell_type": "code",
   "execution_count": null,
   "id": "a6d9dcde",
   "metadata": {},
   "outputs": [],
   "source": []
  },
  {
   "cell_type": "markdown",
   "id": "94b71db6",
   "metadata": {},
   "source": [
    "## 문자열 포매팅\n",
    "다음과 같은 문자열 포매팅을 통해 문자열 안에 변수나 값을 삽입할 수 있습니다.\n",
    "```python\n",
    "name = 'Bob'\n",
    "age = 30\n",
    "f'My name is {name} and I am {age} years old.'\n",
    "```\n",
    "위의 포매팅 방법을 활용해 변수 `name`과 `age`의 값을 바꿔 문자열을 출력해보세요."
   ]
  },
  {
   "cell_type": "code",
   "execution_count": null,
   "id": "31103f7c",
   "metadata": {},
   "outputs": [],
   "source": []
  }
 ],
 "metadata": {
  "kernelspec": {
   "display_name": "Python 3 (ipykernel)",
   "language": "python",
   "name": "python3"
  },
  "language_info": {
   "codemirror_mode": {
    "name": "ipython",
    "version": 3
   },
   "file_extension": ".py",
   "mimetype": "text/x-python",
   "name": "python",
   "nbconvert_exporter": "python",
   "pygments_lexer": "ipython3",
   "version": "3.11.7"
  }
 },
 "nbformat": 4,
 "nbformat_minor": 5
}
