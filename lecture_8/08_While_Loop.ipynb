{
 "cells": [
  {
   "cell_type": "markdown",
   "id": "e64691ed",
   "metadata": {},
   "source": [
    "## while 반복문\n",
    "`while` 반복문은 조건이 참인 동안 코드를 반복 실행합니다. <br>\n",
    "조건이 거짓이 되면 반복이 종료됩니다.<br>\n",
    "\n",
    "1부터 5까지 출력하는 `while`문을 작성해보세요."
   ]
  },
  {
   "cell_type": "code",
   "execution_count": null,
   "id": "2b065a87",
   "metadata": {},
   "outputs": [],
   "source": []
  },
  {
   "cell_type": "markdown",
   "id": "04640fbf",
   "metadata": {},
   "source": [
    "`while`문을 활용해 사용자로부터 'exit'을 입력받을 때까지 계속 입력을 받는 코드를 작성해보세요.\n",
    "```python\n",
    "user = input()\n",
    "while 조건문:\n",
    "    user = input()\n",
    "```"
   ]
  },
  {
   "cell_type": "code",
   "execution_count": null,
   "id": "b730c310-a199-4f1d-85c9-8b391af3dfe4",
   "metadata": {},
   "outputs": [],
   "source": []
  },
  {
   "cell_type": "markdown",
   "id": "535a7680",
   "metadata": {},
   "source": [
    "`while`을 활용해 1부터 10까지 합을 계산해 출력해보세요."
   ]
  },
  {
   "cell_type": "code",
   "execution_count": null,
   "id": "9a3387c3",
   "metadata": {},
   "outputs": [],
   "source": []
  },
  {
   "cell_type": "markdown",
   "id": "48419cee",
   "metadata": {},
   "source": [
    "`while`문으로 2의 거듭제곱을 100 이상이 될 때까지 출력해보세요."
   ]
  },
  {
   "cell_type": "code",
   "execution_count": null,
   "id": "c6239409",
   "metadata": {},
   "outputs": [],
   "source": []
  },
  {
   "cell_type": "markdown",
   "id": "a384180a",
   "metadata": {},
   "source": [
    "리스트 `a = [1, 2, 3]`의 모든 요소를 `while`문과 `len()`을 사용해 출력해보세요."
   ]
  },
  {
   "cell_type": "code",
   "execution_count": null,
   "id": "036447a3",
   "metadata": {},
   "outputs": [],
   "source": []
  },
  {
   "cell_type": "markdown",
   "id": "965f11ad",
   "metadata": {},
   "source": [
    "## 반복문 내 제어\n",
    "`break`, `continue`, `pass`는 반복문 내부 동작을 제어할 수 있게 도와줍니다.<br>\n",
    "\n",
    "`break`를 활용해 숫자를 입력받다가 0이면 종료하는 반복문을 작성해보세요.(`while True:` 사용)"
   ]
  },
  {
   "cell_type": "code",
   "execution_count": null,
   "id": "4dbd131b",
   "metadata": {},
   "outputs": [],
   "source": []
  },
  {
   "cell_type": "markdown",
   "id": "f17b8406",
   "metadata": {},
   "source": [
    "1부터 10까지의 정수 중 `continue`를 활용해 홀수만 출력하도록 반복문을 작성해보세요."
   ]
  },
  {
   "cell_type": "code",
   "execution_count": null,
   "id": "1195397b",
   "metadata": {},
   "outputs": [],
   "source": []
  }
 ],
 "metadata": {
  "kernelspec": {
   "display_name": "Python [conda env:base] *",
   "language": "python",
   "name": "conda-base-py"
  },
  "language_info": {
   "codemirror_mode": {
    "name": "ipython",
    "version": 3
   },
   "file_extension": ".py",
   "mimetype": "text/x-python",
   "name": "python",
   "nbconvert_exporter": "python",
   "pygments_lexer": "ipython3",
   "version": "3.13.5"
  }
 },
 "nbformat": 4,
 "nbformat_minor": 5
}
